{
  "cells": [
    {
      "cell_type": "markdown",
      "metadata": {
        "id": "OUYTYUrb_mNh"
      },
      "source": [
        "# Implementing Recommender Systems - Lab\n",
        "\n",
        "## Introduction\n",
        "\n",
        "In this lab, you'll practice creating a recommender system model using `surprise`. You'll also get the chance to create a more complete recommender system pipeline to obtain the top recommendations for a specific user.\n"
      ]
    },
    {
      "cell_type": "markdown",
      "metadata": {
        "id": "cWBqa2Yv_mNk"
      },
      "source": [
        "## Objectives\n",
        "\n",
        "In this lab you will:\n",
        "\n",
        "- Use surprise's built-in reader class to process data to work with recommender algorithms\n",
        "- Obtain a prediction for a specific user for a particular item\n",
        "- Introduce a new user with rating to a rating matrix and make recommendations for them\n",
        "- Create a function that will return the top n recommendations for a user\n"
      ]
    },
    {
      "cell_type": "markdown",
      "metadata": {
        "id": "AzfEOB9S_mNl"
      },
      "source": [
        "For this lab, we will be using the famous 1M movie dataset. It contains a collection of user ratings for many different movies. In the last lesson, you were exposed to working with `surprise` datasets. In this lab, you will also go through the process of reading in a dataset into the `surprise` dataset format. To begin with, load the dataset into a Pandas DataFrame. Determine which columns are necessary for your recommendation system and drop any extraneous ones."
      ]
    },
    {
      "cell_type": "code",
      "execution_count": 13,
      "metadata": {
        "id": "Rs_SOVKO_mNl",
        "outputId": "ca1a693b-fbf1-4a4c-8759-a5ab554bae9a",
        "colab": {
          "base_uri": "https://localhost:8080/"
        }
      },
      "outputs": [
        {
          "output_type": "stream",
          "name": "stdout",
          "text": [
            "<class 'pandas.core.frame.DataFrame'>\n",
            "RangeIndex: 100836 entries, 0 to 100835\n",
            "Data columns (total 4 columns):\n",
            " #   Column     Non-Null Count   Dtype  \n",
            "---  ------     --------------   -----  \n",
            " 0   userId     100836 non-null  int64  \n",
            " 1   movieId    100836 non-null  int64  \n",
            " 2   rating     100836 non-null  float64\n",
            " 3   timestamp  100836 non-null  int64  \n",
            "dtypes: float64(1), int64(3)\n",
            "memory usage: 3.1 MB\n"
          ]
        }
      ],
      "source": [
        "import pandas as pd\n",
        "df = pd.read_csv('https://raw.githubusercontent.com/learn-co-curriculum/dsc-implementing-recommender-systems-lab/solution/ml-latest-small/ratings.csv')\n",
        "df.info()"
      ]
    },
    {
      "cell_type": "code",
      "execution_count": 14,
      "metadata": {
        "id": "7BvTej9d_mNn"
      },
      "outputs": [],
      "source": [
        "# Drop unnecessary columns\n",
        "new_df = df.drop(['timestamp'], axis=1)"
      ]
    },
    {
      "cell_type": "markdown",
      "metadata": {
        "id": "gKA1Pu25_mNn"
      },
      "source": [
        "It's now time to transform the dataset into something compatible with `surprise`. In order to do this, you're going to need `Reader` and `Dataset` classes. There's a method in `Dataset` specifically for loading dataframes."
      ]
    },
    {
      "cell_type": "code",
      "execution_count": 15,
      "metadata": {
        "id": "oppg96Tz_mNo"
      },
      "outputs": [],
      "source": [
        "from csv import reader\n",
        "from surprise import Reader, Dataset\n",
        "# read in values as Surprise dataset\n",
        "reader = Reader(rating_scale=(0.5, 5.0))\n",
        "data = Dataset.load_from_df(new_df[['userId', 'movieId', 'rating']], reader)\n"
      ]
    },
    {
      "cell_type": "markdown",
      "metadata": {
        "id": "luv4Oxa9_mNo"
      },
      "source": [
        "Let's look at how many users and items we have in our dataset. If using neighborhood-based methods, this will help us determine whether or not we should perform user-user or item-item similarity"
      ]
    },
    {
      "cell_type": "code",
      "execution_count": 16,
      "metadata": {
        "id": "I8t_Ji9S_mNo",
        "outputId": "d591f558-645a-4335-a1c1-2645790cbf7e",
        "colab": {
          "base_uri": "https://localhost:8080/"
        }
      },
      "outputs": [
        {
          "output_type": "stream",
          "name": "stdout",
          "text": [
            "Number of users:  610 \n",
            "\n",
            "Number of items:  9724\n"
          ]
        }
      ],
      "source": [
        "dataset = data.build_full_trainset()\n",
        "print('Number of users: ', dataset.n_users, '\\n')\n",
        "print('Number of items: ', dataset.n_items)"
      ]
    },
    {
      "cell_type": "markdown",
      "metadata": {
        "id": "8pp-4A8c_mNp"
      },
      "source": [
        "## Determine the best model\n",
        "\n",
        "Now, compare the different models and see which ones perform best. For consistency sake, use RMSE to evaluate models. Remember to cross-validate! Can you get a model with a higher average RMSE on test data than 0.869?"
      ]
    },
    {
      "cell_type": "code",
      "execution_count": 17,
      "metadata": {
        "id": "0HsO281z_mNp"
      },
      "outputs": [],
      "source": [
        "# importing relevant libraries\n",
        "from surprise.model_selection import cross_validate\n",
        "from surprise.prediction_algorithms import SVD\n",
        "from surprise.prediction_algorithms import KNNWithMeans, KNNBasic, KNNBaseline\n",
        "from surprise.model_selection import GridSearchCV\n",
        "import numpy as np"
      ]
    },
    {
      "cell_type": "code",
      "execution_count": 22,
      "metadata": {
        "id": "kph2uI2r_mNp"
      },
      "outputs": [],
      "source": [
        "## Perform a gridsearch with SVD\n",
        "# ⏰ This cell may take several minutes to run\n",
        "grid = {'n_factors': [20, 50, 100], 'reg_all': [0.02, 0.05, 0.1]}\n",
        "gs = GridSearchCV(SVD, grid, measures=['rmse'], cv=5)\n",
        "gs.fit(data)"
      ]
    },
    {
      "cell_type": "code",
      "execution_count": 23,
      "metadata": {
        "id": "E0PJxVFW_mNq",
        "outputId": "0cdf6694-1a64-48be-a7b3-bc5bb711b91d",
        "colab": {
          "base_uri": "https://localhost:8080/"
        }
      },
      "outputs": [
        {
          "output_type": "stream",
          "name": "stdout",
          "text": [
            "{'rmse': 0.8688127993399138}\n",
            "{'rmse': {'n_factors': 50, 'reg_all': 0.05}}\n"
          ]
        }
      ],
      "source": [
        "# print out optimal parameters for SVD after GridSearch\n",
        "print(gs.best_score)\n",
        "print(gs.best_params)"
      ]
    },
    {
      "cell_type": "code",
      "execution_count": 24,
      "metadata": {
        "id": "MpuDXc8b_mNq"
      },
      "outputs": [],
      "source": [
        "# cross validating with KNNBasic\n",
        "knn_basic = KNNBasic(sim_options={'name':'pearson', 'user_based':True})\n",
        "cv_knn_basic = cross_validate(knn_basic, data, n_jobs=-1)"
      ]
    },
    {
      "cell_type": "code",
      "execution_count": 25,
      "metadata": {
        "id": "QpQEhOhh_mNq",
        "outputId": "dedf7543-0f54-47be-b705-af18b2f37e13",
        "colab": {
          "base_uri": "https://localhost:8080/"
        }
      },
      "outputs": [
        {
          "output_type": "stream",
          "name": "stdout",
          "text": [
            "('test_rmse', array([0.9695227 , 0.97857953, 0.9755413 , 0.96626515, 0.97840255]))\n",
            "('test_mae', array([0.7470977 , 0.75753285, 0.75069514, 0.74813384, 0.75597965]))\n",
            "('fit_time', (0.3644425868988037, 0.3739161491394043, 0.9674525260925293, 0.7724816799163818, 0.2317192554473877))\n",
            "('test_time', (2.338921546936035, 2.796525478363037, 2.217702865600586, 2.2208666801452637, 1.0720868110656738))\n",
            "-----------------------\n",
            "0.9736622456447407\n"
          ]
        }
      ],
      "source": [
        "# print out the average RMSE score for the test set\n",
        "for i in cv_knn_basic.items():\n",
        "    print(i)\n",
        "print('-----------------------')\n",
        "print(np.mean(cv_knn_basic['test_rmse']))"
      ]
    },
    {
      "cell_type": "code",
      "execution_count": 28,
      "metadata": {
        "id": "NIZtZr8q_mNq",
        "outputId": "38cad944-9e37-4a29-ad06-3921ca8b9546",
        "colab": {
          "base_uri": "https://localhost:8080/"
        }
      },
      "outputs": [
        {
          "output_type": "stream",
          "name": "stdout",
          "text": [
            "Estimating biases using als...\n",
            "Computing the pearson similarity matrix...\n",
            "Done computing similarity matrix.\n",
            "Estimating biases using als...\n",
            "Computing the pearson similarity matrix...\n",
            "Done computing similarity matrix.\n",
            "Estimating biases using als...\n",
            "Computing the pearson similarity matrix...\n",
            "Done computing similarity matrix.\n",
            "Estimating biases using als...\n",
            "Computing the pearson similarity matrix...\n",
            "Done computing similarity matrix.\n",
            "Estimating biases using als...\n",
            "Computing the pearson similarity matrix...\n",
            "Done computing similarity matrix.\n"
          ]
        }
      ],
      "source": [
        "# cross validating with KNNBaseline\n",
        "knn_baseline = KNNBaseline(sim_options={'name':'pearson', 'user_based':True})\n",
        "cv_knn_baseline = cross_validate(knn_baseline, data)"
      ]
    },
    {
      "cell_type": "code",
      "execution_count": 31,
      "metadata": {
        "id": "sIegVR6Z_mNq",
        "outputId": "84179ec7-a518-4962-98b0-5d9759fa4a19",
        "colab": {
          "base_uri": "https://localhost:8080/"
        }
      },
      "outputs": [
        {
          "output_type": "stream",
          "name": "stdout",
          "text": [
            "('test_rmse', array([0.88239567, 0.87576531, 0.88046289, 0.87702209, 0.88098078]))\n",
            "('test_mae', array([0.67543492, 0.66905728, 0.67356185, 0.66589639, 0.67429281]))\n",
            "('fit_time', (0.5047173500061035, 0.5287642478942871, 0.5695147514343262, 0.4952576160430908, 0.7140092849731445))\n",
            "('test_time', (1.7394163608551025, 1.5931529998779297, 1.7239010334014893, 2.0228629112243652, 1.9814865589141846))\n",
            "-----------------------\n",
            "0.8793253479814688\n"
          ]
        }
      ],
      "source": [
        "# print out the average score for the test set\n",
        "for i in cv_knn_baseline.items():\n",
        "    print(i)\n",
        "print('-----------------------')\n",
        "print(np.mean(cv_knn_baseline['test_rmse']))"
      ]
    },
    {
      "cell_type": "markdown",
      "metadata": {
        "id": "aIugDkFM_mNr"
      },
      "source": [
        "Based off these outputs, it seems like the best performing model is the SVD model with `n_factors = 50` and a regularization rate of 0.05. Use that model or if you found one that performs better, feel free to use that to make some predictions."
      ]
    },
    {
      "cell_type": "markdown",
      "metadata": {
        "id": "LdKtF5KC_mNr"
      },
      "source": [
        "## Making Recommendations\n",
        "\n",
        "It's important that the output for the recommendation is interpretable to people. Rather than returning the `movie_id` values, it would be far more valuable to return the actual title of the movie. As a first step, let's read in the movies to a dataframe and take a peek at what information we have about them."
      ]
    },
    {
      "cell_type": "code",
      "execution_count": 33,
      "metadata": {
        "id": "AbEe-nRQ_mNr"
      },
      "outputs": [],
      "source": [
        "df_movies = pd.read_csv('https://raw.githubusercontent.com/learn-co-curriculum/dsc-implementing-recommender-systems-lab/solution/ml-latest-small/movies.csv')"
      ]
    },
    {
      "cell_type": "code",
      "execution_count": 34,
      "metadata": {
        "scrolled": true,
        "id": "2lK2mzRP_mNr",
        "outputId": "c57ad259-b2f8-4156-e270-e99da094eeac",
        "colab": {
          "base_uri": "https://localhost:8080/",
          "height": 206
        }
      },
      "outputs": [
        {
          "output_type": "execute_result",
          "data": {
            "text/plain": [
              "   movieId                               title  \\\n",
              "0        1                    Toy Story (1995)   \n",
              "1        2                      Jumanji (1995)   \n",
              "2        3             Grumpier Old Men (1995)   \n",
              "3        4            Waiting to Exhale (1995)   \n",
              "4        5  Father of the Bride Part II (1995)   \n",
              "\n",
              "                                        genres  \n",
              "0  Adventure|Animation|Children|Comedy|Fantasy  \n",
              "1                   Adventure|Children|Fantasy  \n",
              "2                               Comedy|Romance  \n",
              "3                         Comedy|Drama|Romance  \n",
              "4                                       Comedy  "
            ],
            "text/html": [
              "\n",
              "  <div id=\"df-f4da4faa-4971-4d2e-8c70-a2d35882684b\" class=\"colab-df-container\">\n",
              "    <div>\n",
              "<style scoped>\n",
              "    .dataframe tbody tr th:only-of-type {\n",
              "        vertical-align: middle;\n",
              "    }\n",
              "\n",
              "    .dataframe tbody tr th {\n",
              "        vertical-align: top;\n",
              "    }\n",
              "\n",
              "    .dataframe thead th {\n",
              "        text-align: right;\n",
              "    }\n",
              "</style>\n",
              "<table border=\"1\" class=\"dataframe\">\n",
              "  <thead>\n",
              "    <tr style=\"text-align: right;\">\n",
              "      <th></th>\n",
              "      <th>movieId</th>\n",
              "      <th>title</th>\n",
              "      <th>genres</th>\n",
              "    </tr>\n",
              "  </thead>\n",
              "  <tbody>\n",
              "    <tr>\n",
              "      <th>0</th>\n",
              "      <td>1</td>\n",
              "      <td>Toy Story (1995)</td>\n",
              "      <td>Adventure|Animation|Children|Comedy|Fantasy</td>\n",
              "    </tr>\n",
              "    <tr>\n",
              "      <th>1</th>\n",
              "      <td>2</td>\n",
              "      <td>Jumanji (1995)</td>\n",
              "      <td>Adventure|Children|Fantasy</td>\n",
              "    </tr>\n",
              "    <tr>\n",
              "      <th>2</th>\n",
              "      <td>3</td>\n",
              "      <td>Grumpier Old Men (1995)</td>\n",
              "      <td>Comedy|Romance</td>\n",
              "    </tr>\n",
              "    <tr>\n",
              "      <th>3</th>\n",
              "      <td>4</td>\n",
              "      <td>Waiting to Exhale (1995)</td>\n",
              "      <td>Comedy|Drama|Romance</td>\n",
              "    </tr>\n",
              "    <tr>\n",
              "      <th>4</th>\n",
              "      <td>5</td>\n",
              "      <td>Father of the Bride Part II (1995)</td>\n",
              "      <td>Comedy</td>\n",
              "    </tr>\n",
              "  </tbody>\n",
              "</table>\n",
              "</div>\n",
              "    <div class=\"colab-df-buttons\">\n",
              "\n",
              "  <div class=\"colab-df-container\">\n",
              "    <button class=\"colab-df-convert\" onclick=\"convertToInteractive('df-f4da4faa-4971-4d2e-8c70-a2d35882684b')\"\n",
              "            title=\"Convert this dataframe to an interactive table.\"\n",
              "            style=\"display:none;\">\n",
              "\n",
              "  <svg xmlns=\"http://www.w3.org/2000/svg\" height=\"24px\" viewBox=\"0 -960 960 960\">\n",
              "    <path d=\"M120-120v-720h720v720H120Zm60-500h600v-160H180v160Zm220 220h160v-160H400v160Zm0 220h160v-160H400v160ZM180-400h160v-160H180v160Zm440 0h160v-160H620v160ZM180-180h160v-160H180v160Zm440 0h160v-160H620v160Z\"/>\n",
              "  </svg>\n",
              "    </button>\n",
              "\n",
              "  <style>\n",
              "    .colab-df-container {\n",
              "      display:flex;\n",
              "      gap: 12px;\n",
              "    }\n",
              "\n",
              "    .colab-df-convert {\n",
              "      background-color: #E8F0FE;\n",
              "      border: none;\n",
              "      border-radius: 50%;\n",
              "      cursor: pointer;\n",
              "      display: none;\n",
              "      fill: #1967D2;\n",
              "      height: 32px;\n",
              "      padding: 0 0 0 0;\n",
              "      width: 32px;\n",
              "    }\n",
              "\n",
              "    .colab-df-convert:hover {\n",
              "      background-color: #E2EBFA;\n",
              "      box-shadow: 0px 1px 2px rgba(60, 64, 67, 0.3), 0px 1px 3px 1px rgba(60, 64, 67, 0.15);\n",
              "      fill: #174EA6;\n",
              "    }\n",
              "\n",
              "    .colab-df-buttons div {\n",
              "      margin-bottom: 4px;\n",
              "    }\n",
              "\n",
              "    [theme=dark] .colab-df-convert {\n",
              "      background-color: #3B4455;\n",
              "      fill: #D2E3FC;\n",
              "    }\n",
              "\n",
              "    [theme=dark] .colab-df-convert:hover {\n",
              "      background-color: #434B5C;\n",
              "      box-shadow: 0px 1px 3px 1px rgba(0, 0, 0, 0.15);\n",
              "      filter: drop-shadow(0px 1px 2px rgba(0, 0, 0, 0.3));\n",
              "      fill: #FFFFFF;\n",
              "    }\n",
              "  </style>\n",
              "\n",
              "    <script>\n",
              "      const buttonEl =\n",
              "        document.querySelector('#df-f4da4faa-4971-4d2e-8c70-a2d35882684b button.colab-df-convert');\n",
              "      buttonEl.style.display =\n",
              "        google.colab.kernel.accessAllowed ? 'block' : 'none';\n",
              "\n",
              "      async function convertToInteractive(key) {\n",
              "        const element = document.querySelector('#df-f4da4faa-4971-4d2e-8c70-a2d35882684b');\n",
              "        const dataTable =\n",
              "          await google.colab.kernel.invokeFunction('convertToInteractive',\n",
              "                                                    [key], {});\n",
              "        if (!dataTable) return;\n",
              "\n",
              "        const docLinkHtml = 'Like what you see? Visit the ' +\n",
              "          '<a target=\"_blank\" href=https://colab.research.google.com/notebooks/data_table.ipynb>data table notebook</a>'\n",
              "          + ' to learn more about interactive tables.';\n",
              "        element.innerHTML = '';\n",
              "        dataTable['output_type'] = 'display_data';\n",
              "        await google.colab.output.renderOutput(dataTable, element);\n",
              "        const docLink = document.createElement('div');\n",
              "        docLink.innerHTML = docLinkHtml;\n",
              "        element.appendChild(docLink);\n",
              "      }\n",
              "    </script>\n",
              "  </div>\n",
              "\n",
              "\n",
              "<div id=\"df-1305c3f5-e2b5-4452-92cb-0042c3a9224b\">\n",
              "  <button class=\"colab-df-quickchart\" onclick=\"quickchart('df-1305c3f5-e2b5-4452-92cb-0042c3a9224b')\"\n",
              "            title=\"Suggest charts\"\n",
              "            style=\"display:none;\">\n",
              "\n",
              "<svg xmlns=\"http://www.w3.org/2000/svg\" height=\"24px\"viewBox=\"0 0 24 24\"\n",
              "     width=\"24px\">\n",
              "    <g>\n",
              "        <path d=\"M19 3H5c-1.1 0-2 .9-2 2v14c0 1.1.9 2 2 2h14c1.1 0 2-.9 2-2V5c0-1.1-.9-2-2-2zM9 17H7v-7h2v7zm4 0h-2V7h2v10zm4 0h-2v-4h2v4z\"/>\n",
              "    </g>\n",
              "</svg>\n",
              "  </button>\n",
              "\n",
              "<style>\n",
              "  .colab-df-quickchart {\n",
              "      --bg-color: #E8F0FE;\n",
              "      --fill-color: #1967D2;\n",
              "      --hover-bg-color: #E2EBFA;\n",
              "      --hover-fill-color: #174EA6;\n",
              "      --disabled-fill-color: #AAA;\n",
              "      --disabled-bg-color: #DDD;\n",
              "  }\n",
              "\n",
              "  [theme=dark] .colab-df-quickchart {\n",
              "      --bg-color: #3B4455;\n",
              "      --fill-color: #D2E3FC;\n",
              "      --hover-bg-color: #434B5C;\n",
              "      --hover-fill-color: #FFFFFF;\n",
              "      --disabled-bg-color: #3B4455;\n",
              "      --disabled-fill-color: #666;\n",
              "  }\n",
              "\n",
              "  .colab-df-quickchart {\n",
              "    background-color: var(--bg-color);\n",
              "    border: none;\n",
              "    border-radius: 50%;\n",
              "    cursor: pointer;\n",
              "    display: none;\n",
              "    fill: var(--fill-color);\n",
              "    height: 32px;\n",
              "    padding: 0;\n",
              "    width: 32px;\n",
              "  }\n",
              "\n",
              "  .colab-df-quickchart:hover {\n",
              "    background-color: var(--hover-bg-color);\n",
              "    box-shadow: 0 1px 2px rgba(60, 64, 67, 0.3), 0 1px 3px 1px rgba(60, 64, 67, 0.15);\n",
              "    fill: var(--button-hover-fill-color);\n",
              "  }\n",
              "\n",
              "  .colab-df-quickchart-complete:disabled,\n",
              "  .colab-df-quickchart-complete:disabled:hover {\n",
              "    background-color: var(--disabled-bg-color);\n",
              "    fill: var(--disabled-fill-color);\n",
              "    box-shadow: none;\n",
              "  }\n",
              "\n",
              "  .colab-df-spinner {\n",
              "    border: 2px solid var(--fill-color);\n",
              "    border-color: transparent;\n",
              "    border-bottom-color: var(--fill-color);\n",
              "    animation:\n",
              "      spin 1s steps(1) infinite;\n",
              "  }\n",
              "\n",
              "  @keyframes spin {\n",
              "    0% {\n",
              "      border-color: transparent;\n",
              "      border-bottom-color: var(--fill-color);\n",
              "      border-left-color: var(--fill-color);\n",
              "    }\n",
              "    20% {\n",
              "      border-color: transparent;\n",
              "      border-left-color: var(--fill-color);\n",
              "      border-top-color: var(--fill-color);\n",
              "    }\n",
              "    30% {\n",
              "      border-color: transparent;\n",
              "      border-left-color: var(--fill-color);\n",
              "      border-top-color: var(--fill-color);\n",
              "      border-right-color: var(--fill-color);\n",
              "    }\n",
              "    40% {\n",
              "      border-color: transparent;\n",
              "      border-right-color: var(--fill-color);\n",
              "      border-top-color: var(--fill-color);\n",
              "    }\n",
              "    60% {\n",
              "      border-color: transparent;\n",
              "      border-right-color: var(--fill-color);\n",
              "    }\n",
              "    80% {\n",
              "      border-color: transparent;\n",
              "      border-right-color: var(--fill-color);\n",
              "      border-bottom-color: var(--fill-color);\n",
              "    }\n",
              "    90% {\n",
              "      border-color: transparent;\n",
              "      border-bottom-color: var(--fill-color);\n",
              "    }\n",
              "  }\n",
              "</style>\n",
              "\n",
              "  <script>\n",
              "    async function quickchart(key) {\n",
              "      const quickchartButtonEl =\n",
              "        document.querySelector('#' + key + ' button');\n",
              "      quickchartButtonEl.disabled = true;  // To prevent multiple clicks.\n",
              "      quickchartButtonEl.classList.add('colab-df-spinner');\n",
              "      try {\n",
              "        const charts = await google.colab.kernel.invokeFunction(\n",
              "            'suggestCharts', [key], {});\n",
              "      } catch (error) {\n",
              "        console.error('Error during call to suggestCharts:', error);\n",
              "      }\n",
              "      quickchartButtonEl.classList.remove('colab-df-spinner');\n",
              "      quickchartButtonEl.classList.add('colab-df-quickchart-complete');\n",
              "    }\n",
              "    (() => {\n",
              "      let quickchartButtonEl =\n",
              "        document.querySelector('#df-1305c3f5-e2b5-4452-92cb-0042c3a9224b button');\n",
              "      quickchartButtonEl.style.display =\n",
              "        google.colab.kernel.accessAllowed ? 'block' : 'none';\n",
              "    })();\n",
              "  </script>\n",
              "</div>\n",
              "\n",
              "    </div>\n",
              "  </div>\n"
            ],
            "application/vnd.google.colaboratory.intrinsic+json": {
              "type": "dataframe",
              "variable_name": "df_movies",
              "summary": "{\n  \"name\": \"df_movies\",\n  \"rows\": 9742,\n  \"fields\": [\n    {\n      \"column\": \"movieId\",\n      \"properties\": {\n        \"dtype\": \"number\",\n        \"std\": 52160,\n        \"min\": 1,\n        \"max\": 193609,\n        \"num_unique_values\": 9742,\n        \"samples\": [\n          45635,\n          1373,\n          7325\n        ],\n        \"semantic_type\": \"\",\n        \"description\": \"\"\n      }\n    },\n    {\n      \"column\": \"title\",\n      \"properties\": {\n        \"dtype\": \"string\",\n        \"num_unique_values\": 9737,\n        \"samples\": [\n          \"Teenage Mutant Ninja Turtles (2014)\",\n          \"America's Sweethearts (2001)\",\n          \"Cast Away (2000)\"\n        ],\n        \"semantic_type\": \"\",\n        \"description\": \"\"\n      }\n    },\n    {\n      \"column\": \"genres\",\n      \"properties\": {\n        \"dtype\": \"category\",\n        \"num_unique_values\": 951,\n        \"samples\": [\n          \"Crime|Mystery|Romance|Thriller\",\n          \"Action|Adventure|Comedy|Western\",\n          \"Crime|Drama|Musical\"\n        ],\n        \"semantic_type\": \"\",\n        \"description\": \"\"\n      }\n    }\n  ]\n}"
            }
          },
          "metadata": {},
          "execution_count": 34
        }
      ],
      "source": [
        "df_movies.head()"
      ]
    },
    {
      "cell_type": "markdown",
      "metadata": {
        "id": "SWXAVAIM_mNr"
      },
      "source": [
        "## Making simple predictions\n",
        "Just as a reminder, let's look at how you make a prediction for an individual user and item. First, we'll fit the SVD model we had from before."
      ]
    },
    {
      "cell_type": "code",
      "execution_count": 35,
      "metadata": {
        "id": "kTngDVYK_mNr",
        "outputId": "c1a640f2-fd38-49f5-9dcc-5682ef43b44c",
        "colab": {
          "base_uri": "https://localhost:8080/"
        }
      },
      "outputs": [
        {
          "output_type": "execute_result",
          "data": {
            "text/plain": [
              "<surprise.prediction_algorithms.matrix_factorization.SVD at 0x7c37225ceda0>"
            ]
          },
          "metadata": {},
          "execution_count": 35
        }
      ],
      "source": [
        "svd = SVD(n_factors= 50, reg_all=0.05)\n",
        "svd.fit(dataset)"
      ]
    },
    {
      "cell_type": "code",
      "execution_count": 36,
      "metadata": {
        "id": "s5q7z3Ch_mNr",
        "outputId": "93e90ee5-17da-49f8-8615-17cfc941b4f2",
        "colab": {
          "base_uri": "https://localhost:8080/"
        }
      },
      "outputs": [
        {
          "output_type": "execute_result",
          "data": {
            "text/plain": [
              "Prediction(uid=2, iid=4, r_ui=None, est=3.130691706262779, details={'was_impossible': False})"
            ]
          },
          "metadata": {},
          "execution_count": 36
        }
      ],
      "source": [
        "svd.predict(2, 4)"
      ]
    },
    {
      "cell_type": "markdown",
      "metadata": {
        "id": "X9lgWEJA_mNs"
      },
      "source": [
        "This prediction value is a tuple and each of the values within it can be accessed by way of indexing. Now let's put our knowledge of recommendation systems to do something interesting: making predictions for a new user!"
      ]
    },
    {
      "cell_type": "markdown",
      "metadata": {
        "id": "M_ZiSdf5_mNs"
      },
      "source": [
        "## Obtaining User Ratings\n",
        "\n",
        "It's great that we have working models and everything, but wouldn't it be nice to get to recommendations specifically tailored to your preferences? That's what we'll be doing now. The first step is to create a function that allows us to pick randomly selected movies. The function should present users with a movie and ask them to rate it. If they have not seen the movie, they should be able to skip rating it.\n",
        "\n",
        "The function `movie_rater()` should take as parameters:\n",
        "\n",
        "* `movie_df`: DataFrame - a dataframe containing the movie ids, name of movie, and genres\n",
        "* `num`: int - number of ratings\n",
        "* `genre`: string - a specific genre from which to draw movies\n",
        "\n",
        "The function returns:\n",
        "* rating_list : list - a collection of dictionaries in the format of {'userId': int , 'movieId': int , 'rating': float}\n",
        "\n",
        "#### This function is optional, but fun :)"
      ]
    },
    {
      "cell_type": "code",
      "execution_count": 38,
      "metadata": {
        "id": "Hgng5zcj_mNs"
      },
      "outputs": [],
      "source": [
        "def movie_rater(movie_df,num, genre=None):\n",
        "    userID = 1000\n",
        "    rating_list = []\n",
        "    while num > 0:\n",
        "        if genre:\n",
        "            movie = movie_df[movie_df['genres'].str.contains(genre)].sample(1)\n",
        "        else:\n",
        "            movie = movie_df.sample(1)\n",
        "        print(movie)\n",
        "        rating = input('How do you rate this movie on a scale of 1-5, press n if you have not seen :\\n')\n",
        "        if rating == 'n':\n",
        "            continue\n",
        "        else:\n",
        "            rating_one_movie = {'userId':userID,'movieId':movie['movieId'].values[0],'rating':rating}\n",
        "            rating_list.append(rating_one_movie)\n",
        "            num -= 1\n",
        "    return rating_list"
      ]
    },
    {
      "cell_type": "code",
      "execution_count": 39,
      "metadata": {
        "scrolled": true,
        "id": "XHGOBLXx_mNs",
        "outputId": "9f96c35c-71cc-4ab1-ea08-004f79bc9679",
        "colab": {
          "base_uri": "https://localhost:8080/"
        }
      },
      "outputs": [
        {
          "name": "stdout",
          "output_type": "stream",
          "text": [
            "      movieId                              title  \\\n",
            "4527     6709  Once Upon a Time in Mexico (2003)   \n",
            "\n",
            "                               genres  \n",
            "4527  Action|Adventure|Crime|Thriller  \n",
            "How do you rate this movie on a scale of 1-5, press n if you have not seen :\n",
            "n\n",
            "      movieId         title  genres\n",
            "1201     1599  Steel (1997)  Action\n",
            "How do you rate this movie on a scale of 1-5, press n if you have not seen :\n",
            "n\n",
            "      movieId                                      title         genres\n",
            "1908     2532  Conquest of the Planet of the Apes (1972)  Action|Sci-Fi\n",
            "How do you rate this movie on a scale of 1-5, press n if you have not seen :\n",
            "n\n",
            "      movieId                               title  \\\n",
            "6675    57640  Hellboy II: The Golden Army (2008)   \n",
            "\n",
            "                               genres  \n",
            "6675  Action|Adventure|Fantasy|Sci-Fi  \n",
            "How do you rate this movie on a scale of 1-5, press n if you have not seen :\n",
            "4\n",
            "      movieId                                       title  \\\n",
            "1058     1375  Star Trek III: The Search for Spock (1984)   \n",
            "\n",
            "                       genres  \n",
            "1058  Action|Adventure|Sci-Fi  \n",
            "How do you rate this movie on a scale of 1-5, press n if you have not seen :\n",
            "n\n",
            "      movieId            title                     genres\n",
            "1126     1473  Best Men (1997)  Action|Comedy|Crime|Drama\n",
            "How do you rate this movie on a scale of 1-5, press n if you have not seen :\n",
            "n\n",
            "     movieId           title                             genres\n",
            "594      736  Twister (1996)  Action|Adventure|Romance|Thriller\n",
            "How do you rate this movie on a scale of 1-5, press n if you have not seen :\n",
            "n\n",
            "      movieId                  title         genres\n",
            "7177    72171  Black Dynamite (2009)  Action|Comedy\n",
            "How do you rate this movie on a scale of 1-5, press n if you have not seen :\n",
            "n\n",
            "      movieId                                             title  \\\n",
            "9617   177285  Sword Art Online The Movie: Ordinal Scale (2017)   \n",
            "\n",
            "                                         genres  \n",
            "9617  Action|Adventure|Animation|Fantasy|Sci-Fi  \n",
            "How do you rate this movie on a scale of 1-5, press n if you have not seen :\n",
            "n\n",
            "      movieId             title                       genres\n",
            "4242     6185  Dark Blue (2003)  Action|Crime|Drama|Thriller\n",
            "How do you rate this movie on a scale of 1-5, press n if you have not seen :\n",
            "n\n",
            "      movieId                       title                   genres\n",
            "1859     2471  Crocodile Dundee II (1988)  Action|Adventure|Comedy\n",
            "How do you rate this movie on a scale of 1-5, press n if you have not seen :\n",
            "n\n",
            "      movieId             title               genres\n",
            "8204   103372  Heat, The (2013)  Action|Comedy|Crime\n",
            "How do you rate this movie on a scale of 1-5, press n if you have not seen :\n",
            "n\n",
            "      movieId                    title                  genres\n",
            "8261   105020  Collision Course (1989)  Action|Comedy|Thriller\n",
            "How do you rate this movie on a scale of 1-5, press n if you have not seen :\n",
            "n\n",
            "     movieId             title                  genres\n",
            "136      163  Desperado (1995)  Action|Romance|Western\n",
            "How do you rate this movie on a scale of 1-5, press n if you have not seen :\n",
            "4\n",
            "      movieId             title                                   genres\n",
            "6076    41569  King Kong (2005)  Action|Adventure|Drama|Fantasy|Thriller\n",
            "How do you rate this movie on a scale of 1-5, press n if you have not seen :\n",
            "n\n",
            "      movieId        title         genres\n",
            "5346     8912  Taxi (2004)  Action|Comedy\n",
            "How do you rate this movie on a scale of 1-5, press n if you have not seen :\n",
            "4\n",
            "      movieId                   title         genres\n",
            "9703   185435  Game Over, Man! (2018)  Action|Comedy\n",
            "How do you rate this movie on a scale of 1-5, press n if you have not seen :\n",
            "n\n",
            "      movieId                                   title         genres\n",
            "1056     1373  Star Trek V: The Final Frontier (1989)  Action|Sci-Fi\n",
            "How do you rate this movie on a scale of 1-5, press n if you have not seen :\n",
            "n\n",
            "      movieId                                              title  \\\n",
            "5039     7844  Legend, The (Legend of Fong Sai-Yuk, The) (Fon...   \n",
            "\n",
            "             genres  \n",
            "5039  Action|Comedy  \n",
            "How do you rate this movie on a scale of 1-5, press n if you have not seen :\n",
            "n\n",
            "      movieId            title                               genres\n",
            "8651   120637  Blackhat (2015)  Action|Crime|Drama|Mystery|Thriller\n",
            "How do you rate this movie on a scale of 1-5, press n if you have not seen :\n",
            "n\n",
            "      movieId                                        title  \\\n",
            "7774    91630  Mission: Impossible - Ghost Protocol (2011)   \n",
            "\n",
            "                              genres  \n",
            "7774  Action|Adventure|Thriller|IMAX  \n",
            "How do you rate this movie on a scale of 1-5, press n if you have not seen :\n",
            "5\n"
          ]
        }
      ],
      "source": [
        "# try out the new function here!\n",
        "user_rating = movie_rater(df_movies, 4, 'Action')"
      ]
    },
    {
      "cell_type": "markdown",
      "metadata": {
        "id": "Iomo8jMP_mNs"
      },
      "source": [
        "If you're struggling to come up with the above function, you can use this list of user ratings to complete the next segment"
      ]
    },
    {
      "cell_type": "code",
      "execution_count": null,
      "metadata": {
        "id": "EaAolUyB_mNs",
        "outputId": "8993b42d-d356-49ea-ac80-831f4f68af06"
      },
      "outputs": [
        {
          "data": {
            "text/plain": [
              "[{'userId': 1000, 'movieId': 55245, 'rating': '5'},\n",
              " {'userId': 1000, 'movieId': 2491, 'rating': '4'},\n",
              " {'userId': 1000, 'movieId': 4718, 'rating': '4'},\n",
              " {'userId': 1000, 'movieId': 5990, 'rating': '3'}]"
            ]
          },
          "execution_count": 38,
          "metadata": {},
          "output_type": "execute_result"
        }
      ],
      "source": [
        "user_rating"
      ]
    },
    {
      "cell_type": "markdown",
      "metadata": {
        "id": "CJr25FCj_mNs"
      },
      "source": [
        "### Making Predictions With the New Ratings\n",
        "Now that you have new ratings, you can use them to make predictions for this new user. The proper way this should work is:\n",
        "\n",
        "* add the new ratings to the original ratings DataFrame, read into a `surprise` dataset\n",
        "* train a model using the new combined DataFrame\n",
        "* make predictions for the user\n",
        "* order those predictions from highest rated to lowest rated\n",
        "* return the top n recommendations with the text of the actual movie (rather than just the index number)"
      ]
    },
    {
      "cell_type": "code",
      "execution_count": 43,
      "metadata": {
        "id": "TC5EJoW2_mNs"
      },
      "outputs": [],
      "source": [
        "## add the new ratings to the original ratings DataFrame\n",
        "user_ratings = pd.DataFrame(user_rating)\n",
        "new_ratings_df = pd.concat([new_df, user_ratings], axis=0)\n",
        "new_data = Dataset.load_from_df(new_ratings_df,reader)"
      ]
    },
    {
      "cell_type": "code",
      "execution_count": 45,
      "metadata": {
        "id": "Hos5zOmL_mNt",
        "outputId": "5147845e-367c-467b-d1bd-b7f175018e2e",
        "colab": {
          "base_uri": "https://localhost:8080/"
        }
      },
      "outputs": [
        {
          "output_type": "execute_result",
          "data": {
            "text/plain": [
              "<surprise.prediction_algorithms.matrix_factorization.SVD at 0x7c372075f640>"
            ]
          },
          "metadata": {},
          "execution_count": 45
        }
      ],
      "source": [
        "# train a model using the new combined DataFrame\n",
        "svd_ = SVD(n_factors= 50, reg_all=0.05)\n",
        "svd_.fit(new_data.build_full_trainset())\n"
      ]
    },
    {
      "cell_type": "code",
      "execution_count": 46,
      "metadata": {
        "id": "zuXT7Mhz_mNt"
      },
      "outputs": [],
      "source": [
        "# make predictions for the user\n",
        "# you'll probably want to create a list of tuples in the format (movie_id, predicted_score)\n",
        "list_of_movies = []\n",
        "for m_id in new_df['movieId'].unique():\n",
        "    list_of_movies.append( (m_id,svd_.predict(1000,m_id)[3]))"
      ]
    },
    {
      "cell_type": "code",
      "execution_count": 47,
      "metadata": {
        "id": "yhFRVgmb_mNt"
      },
      "outputs": [],
      "source": [
        "# order the predictions from highest to lowest rated\n",
        "ranked_movies = sorted(list_of_movies, key=lambda x:x[1], reverse=True)"
      ]
    },
    {
      "cell_type": "markdown",
      "metadata": {
        "id": "E4z8jitp_mNt"
      },
      "source": [
        " For the final component of this challenge, it could be useful to create a function `recommended_movies()` that takes in the parameters:\n",
        "* `user_ratings`: list - list of tuples formulated as (user_id, movie_id) (should be in order of best to worst for this individual)\n",
        "* `movie_title_df`: DataFrame\n",
        "* `n`: int - number of recommended movies\n",
        "\n",
        "The function should use a `for` loop to print out each recommended *n* movies in order from best to worst"
      ]
    },
    {
      "cell_type": "code",
      "execution_count": 48,
      "metadata": {
        "id": "pqTEW2_g_mNt",
        "outputId": "2fbad95e-c14d-44ab-9472-cab34819a84b",
        "colab": {
          "base_uri": "https://localhost:8080/"
        }
      },
      "outputs": [
        {
          "output_type": "stream",
          "name": "stdout",
          "text": [
            "Recommendation #  1 :  277    Shawshank Redemption, The (1994)\n",
            "Name: title, dtype: object \n",
            "\n",
            "Recommendation #  2 :  863    Monty Python and the Holy Grail (1975)\n",
            "Name: title, dtype: object \n",
            "\n",
            "Recommendation #  3 :  224    Star Wars: Episode IV - A New Hope (1977)\n",
            "Name: title, dtype: object \n",
            "\n",
            "Recommendation #  4 :  686    Rear Window (1954)\n",
            "Name: title, dtype: object \n",
            "\n",
            "Recommendation #  5 :  841    Streetcar Named Desire, A (1951)\n",
            "Name: title, dtype: object \n",
            "\n"
          ]
        }
      ],
      "source": [
        "# return the top n recommendations using the\n",
        "def recommended_movies(user_ratings,movie_title_df,n):\n",
        "        for idx, rec in enumerate(user_ratings):\n",
        "            title = movie_title_df.loc[movie_title_df['movieId'] == int(rec[0])]['title']\n",
        "            print('Recommendation # ', idx+1, ': ', title, '\\n')\n",
        "            n-= 1\n",
        "            if n == 0:\n",
        "                break\n",
        "\n",
        "recommended_movies(ranked_movies,df_movies,5)"
      ]
    },
    {
      "cell_type": "markdown",
      "metadata": {
        "id": "F3PxhR-H_mNt"
      },
      "source": [
        "## Level Up (Optional)\n",
        "\n",
        "* Try and chain all of the steps together into one function that asks users for ratings for a certain number of movies, then all of the above steps are performed to return the top $n$ recommendations\n",
        "* Make a recommender system that only returns items that come from a specified genre"
      ]
    },
    {
      "cell_type": "markdown",
      "metadata": {
        "id": "z7TV5Ikp_mNt"
      },
      "source": [
        "## Summary\n",
        "\n",
        "In this lab, you got the chance to implement a collaborative filtering model as well as retrieve recommendations from that model. You also got the opportunity to add your own recommendations to the system to get new recommendations for yourself! Next, you will learn how to use Spark to make recommender systems."
      ]
    }
  ],
  "metadata": {
    "kernelspec": {
      "display_name": "Python 3",
      "language": "python",
      "name": "python3"
    },
    "language_info": {
      "codemirror_mode": {
        "name": "ipython",
        "version": 3
      },
      "file_extension": ".py",
      "mimetype": "text/x-python",
      "name": "python",
      "nbconvert_exporter": "python",
      "pygments_lexer": "ipython3",
      "version": "3.7.3"
    },
    "toc": {
      "base_numbering": 1,
      "nav_menu": {},
      "number_sections": true,
      "sideBar": true,
      "skip_h1_title": false,
      "title_cell": "Table of Contents",
      "title_sidebar": "Contents",
      "toc_cell": false,
      "toc_position": {},
      "toc_section_display": true,
      "toc_window_display": false
    },
    "colab": {
      "provenance": []
    }
  },
  "nbformat": 4,
  "nbformat_minor": 0
}